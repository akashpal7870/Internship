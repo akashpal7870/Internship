{
 "cells": [
  {
   "cell_type": "markdown",
   "id": "0f166332",
   "metadata": {},
   "source": [
    "11. Write a python program to find the factorial of a number"
   ]
  },
  {
   "cell_type": "code",
   "execution_count": 8,
   "id": "1fe30963",
   "metadata": {},
   "outputs": [
    {
     "name": "stdout",
     "output_type": "stream",
     "text": [
      "Enter a number: 5\n",
      "Factorail of  5  is :  120\n"
     ]
    }
   ],
   "source": [
    "n = int(input(\"Enter a number: \"))\n",
    "factorial = 1\n",
    "if int(n) >= 1:\n",
    "    for i in range (1,int(n)+1):\n",
    "        factorial = factorial * i\n",
    "print(\"Factorail of \",n , \" is : \",factorial)\n",
    "\n",
    "    "
   ]
  },
  {
   "cell_type": "markdown",
   "id": "def478b2",
   "metadata": {},
   "source": [
    "12. Write a python program to find whether a number is prime or composite.\n"
   ]
  },
  {
   "cell_type": "code",
   "execution_count": 9,
   "id": "cd7ea9cd",
   "metadata": {},
   "outputs": [
    {
     "name": "stdout",
     "output_type": "stream",
     "text": [
      "Enter any number : 4\n",
      "4 is NOT a prime number\n"
     ]
    }
   ],
   "source": [
    "num = int(input(\"Enter any number : \"))\n",
    "if num > 1:\n",
    "    for i in range(2, num):\n",
    "        if (num % i) == 0:\n",
    "            print(num, \"is NOT a prime number\")\n",
    "            break\n",
    "    else:\n",
    "        print(num, \"is a PRIME number\")\n",
    "elif num == 0 or 1:\n",
    "    print(num, \"is a neither prime NOR composite number\")\n",
    "else:\n",
    "    print(num, \"is NOT a prime number it is a COMPOSITE number\")\n"
   ]
  },
  {
   "cell_type": "markdown",
   "id": "16f3bb04",
   "metadata": {},
   "source": [
    "13. Write a python program to check whether a given string is palindrome or not.\n"
   ]
  },
  {
   "cell_type": "code",
   "execution_count": 13,
   "id": "02f4d5e5",
   "metadata": {},
   "outputs": [
    {
     "name": "stdout",
     "output_type": "stream",
     "text": [
      "Enter the string: AMIT\n",
      "The string is not a palindrome\n"
     ]
    }
   ],
   "source": [
    "a = input(\"Enter the string: \")\n",
    "b = a[::-1]\n",
    "if a == b:\n",
    "    print(\"The string is a palindrome\")\n",
    "else:\n",
    "    print(\"The string is not a palindrome\")\n",
    "    "
   ]
  },
  {
   "cell_type": "markdown",
   "id": "58a5ab23",
   "metadata": {},
   "source": [
    "14. Write a Python program to get the third side of right-angled triangle from two given sides."
   ]
  },
  {
   "cell_type": "code",
   "execution_count": 17,
   "id": "668b8173",
   "metadata": {},
   "outputs": [
    {
     "name": "stdout",
     "output_type": "stream",
     "text": [
      "Enter base: 6\n",
      "Enter height: 6\n",
      "Hypotenuse = 8.48528137423857\n"
     ]
    }
   ],
   "source": [
    "import math\n",
    "\n",
    "a = float(input(\"Enter base: \"))\n",
    "b = float(input(\"Enter height: \"))\n",
    "x = float(90)\n",
    "\n",
    "c = math.sqrt(a ** 2 + b ** 2)\n",
    "\n",
    "print(\"Hypotenuse =\", c)\n"
   ]
  },
  {
   "cell_type": "markdown",
   "id": "1ae29dcc",
   "metadata": {},
   "source": [
    "15. Write a python program to print the frequency of each of the characters present in a given string."
   ]
  },
  {
   "cell_type": "code",
   "execution_count": 23,
   "id": "c520727d",
   "metadata": {},
   "outputs": [
    {
     "name": "stdout",
     "output_type": "stream",
     "text": [
      "Enter the string: zwexghtmmkizzef\n",
      "Enter the character to search for : z\n",
      "The number of times z is presnt in word zwexghtmmkizzef is 3\n"
     ]
    }
   ],
   "source": [
    "a = input(\"Enter the string: \")\n",
    "c = input(\"Enter the character to search for : \")\n",
    "b = a.count(c)\n",
    "print(f\"The number of times {c} is presnt in word {a} is {b}\")"
   ]
  },
  {
   "cell_type": "code",
   "execution_count": null,
   "id": "9cadaff6",
   "metadata": {},
   "outputs": [],
   "source": []
  }
 ],
 "metadata": {
  "kernelspec": {
   "display_name": "Python 3 (ipykernel)",
   "language": "python",
   "name": "python3"
  },
  "language_info": {
   "codemirror_mode": {
    "name": "ipython",
    "version": 3
   },
   "file_extension": ".py",
   "mimetype": "text/x-python",
   "name": "python",
   "nbconvert_exporter": "python",
   "pygments_lexer": "ipython3",
   "version": "3.9.7"
  }
 },
 "nbformat": 4,
 "nbformat_minor": 5
}
